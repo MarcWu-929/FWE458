{
  "nbformat": 4,
  "nbformat_minor": 0,
  "metadata": {
    "colab": {
      "provenance": []
    },
    "kernelspec": {
      "name": "python3",
      "display_name": "Python 3"
    },
    "language_info": {
      "name": "python"
    }
  },
  "cells": [
    {
      "cell_type": "code",
      "execution_count": 103,
      "metadata": {
        "id": "-aLiWqkg0uJD"
      },
      "outputs": [],
      "source": [
        "import random"
      ]
    },
    {
      "cell_type": "code",
      "source": [
        "random.seed()\n",
        "L = random.sample(range(1, 101), 50) # create a list of 50 elements from 1 - 100\n",
        "print(L)"
      ],
      "metadata": {
        "colab": {
          "base_uri": "https://localhost:8080/"
        },
        "id": "vqGEsntL04NI",
        "outputId": "f837dbb3-4d29-4045-9770-a6405774dd23"
      },
      "execution_count": 104,
      "outputs": [
        {
          "output_type": "stream",
          "name": "stdout",
          "text": [
            "[59, 25, 18, 30, 52, 32, 5, 44, 70, 77, 12, 2, 93, 7, 23, 9, 20, 99, 72, 56, 62, 88, 53, 57, 8, 24, 68, 84, 14, 47, 51, 13, 60, 90, 39, 43, 63, 83, 31, 100, 16, 80, 79, 71, 95, 55, 35, 4, 61, 27]\n"
          ]
        }
      ]
    },
    {
      "cell_type": "markdown",
      "source": [
        "# Bubble sort"
      ],
      "metadata": {
        "id": "Ojdm5u7l9FUE"
      }
    },
    {
      "cell_type": "code",
      "source": [
        "def bubble_sort(L):\n",
        "  n = len(L)                                                     # get the length of the list\n",
        "  L_sorted = L[:]                                                # copy the input list so L won't be overwritten\n",
        "\n",
        "  for i in range(n):                                             # outer loop go through the entire list at most n times to ensure completely sorted\n",
        "    for j in range(n-i-1):                                       # inner loop through each element to compare\n",
        "      if L_sorted[j] > L_sorted[j+1]:                            # compare adjacent values. if the value is greater than next element\n",
        "        L_sorted[j], L_sorted[j+1] = L_sorted[j+1], L_sorted[j]  # if ture, then swap the position\n",
        "\n",
        "  return L_sorted"
      ],
      "metadata": {
        "id": "O4diCiJ01FE-"
      },
      "execution_count": 105,
      "outputs": []
    },
    {
      "cell_type": "code",
      "source": [
        "print(\"Original list:\", L, '\\n')\n",
        "print(\"Bubble sorted list:\", bubble_sort(L))"
      ],
      "metadata": {
        "colab": {
          "base_uri": "https://localhost:8080/"
        },
        "id": "a4l-2VCo2Zh7",
        "outputId": "a2b920a5-8508-4ca2-f4d5-58ab9c9c06b3"
      },
      "execution_count": 110,
      "outputs": [
        {
          "output_type": "stream",
          "name": "stdout",
          "text": [
            "Original list: [59, 25, 18, 30, 52, 32, 5, 44, 70, 77, 12, 2, 93, 7, 23, 9, 20, 99, 72, 56, 62, 88, 53, 57, 8, 24, 68, 84, 14, 47, 51, 13, 60, 90, 39, 43, 63, 83, 31, 100, 16, 80, 79, 71, 95, 55, 35, 4, 61, 27] \n",
            "\n",
            "Bubble sorted list: [2, 4, 5, 7, 8, 9, 12, 13, 14, 16, 18, 20, 23, 24, 25, 27, 30, 31, 32, 35, 39, 43, 44, 47, 51, 52, 53, 55, 56, 57, 59, 60, 61, 62, 63, 68, 70, 71, 72, 77, 79, 80, 83, 84, 88, 90, 93, 95, 99, 100]\n"
          ]
        }
      ]
    },
    {
      "cell_type": "markdown",
      "source": [
        "# Insertion sort"
      ],
      "metadata": {
        "id": "dbcsRd1v9J1E"
      }
    },
    {
      "cell_type": "code",
      "source": [
        "def insertion_sort(L):\n",
        "    n = len(L)                                                           # get the length of the list\n",
        "    L_sorted = L[:]                                                      # copy original list\n",
        "\n",
        "    for i in range(1, n):                                                # start from the second element, then loop through each element\n",
        "        j = i                                                            # index for the key element\n",
        "        while j > 0 and L_sorted[j] < L_sorted[j - 1]:                   # compare with the previous element iteratively untill the condition is broken\n",
        "            L_sorted[j], L_sorted[j - 1] = L_sorted[j - 1], L_sorted[j]  # swap position\n",
        "            j = j - 1                                                    # move index left, avoid infinite loop\n",
        "\n",
        "    return L_sorted"
      ],
      "metadata": {
        "id": "PpRANJ9Q2bku"
      },
      "execution_count": 112,
      "outputs": []
    },
    {
      "cell_type": "code",
      "source": [
        "print(\"Original list:\", L, '\\n')\n",
        "print(\"Insertion sorted list:\", insertion_sort(L))"
      ],
      "metadata": {
        "colab": {
          "base_uri": "https://localhost:8080/"
        },
        "id": "CgfcpqsjABTS",
        "outputId": "9797b8c1-fbce-4726-9c43-ed171bfdca18"
      },
      "execution_count": 113,
      "outputs": [
        {
          "output_type": "stream",
          "name": "stdout",
          "text": [
            "Original list: [59, 25, 18, 30, 52, 32, 5, 44, 70, 77, 12, 2, 93, 7, 23, 9, 20, 99, 72, 56, 62, 88, 53, 57, 8, 24, 68, 84, 14, 47, 51, 13, 60, 90, 39, 43, 63, 83, 31, 100, 16, 80, 79, 71, 95, 55, 35, 4, 61, 27] \n",
            "\n",
            "Insertion sorted list: [2, 4, 5, 7, 8, 9, 12, 13, 14, 16, 18, 20, 23, 24, 25, 27, 30, 31, 32, 35, 39, 43, 44, 47, 51, 52, 53, 55, 56, 57, 59, 60, 61, 62, 63, 68, 70, 71, 72, 77, 79, 80, 83, 84, 88, 90, 93, 95, 99, 100]\n"
          ]
        }
      ]
    },
    {
      "cell_type": "code",
      "source": [],
      "metadata": {
        "id": "dOnExPzwAFoC"
      },
      "execution_count": 85,
      "outputs": []
    }
  ]
}